{
 "cells": [
  {
   "cell_type": "code",
   "execution_count": null,
   "metadata": {},
   "outputs": [],
   "source": [
    "# Module 2 Sequence and File Operations\n",
    "# CaseStudy 1\n",
    "# Q1\n",
    "# This is a program in python to find the factors of a number input by the user\n",
    "# and print if the factor is even or odd\n",
    "\n",
    "num = int(input(\"Enter a number :\"))\n",
    "print(\"The Factoers of\", num, \"are:\")\n",
    "for i in range(1, num + 1):\n",
    "    if (num % i) == 0:\n",
    "        if (i % 2) == 0:\n",
    "            print(i, \" Even\")\n",
    "        else:\n",
    "            print(i, \" Odd \")"
   ]
  },
  {
   "cell_type": "code",
   "execution_count": null,
   "metadata": {},
   "outputs": [],
   "source": [
    "# Module 2 Sequence and File Operations\n",
    "# CaseStudy 1\n",
    "# Q2\n",
    "\n",
    "# This is a program whihc accepts a sequence of words as input and prints the words in a\n",
    "# sequence after sorting them alphabetically\n",
    "\n",
    "# Get the list of comma seperated list of words from the user\n",
    "words = input(\"Enter a comma seperated list of word :\")\n",
    "# Split the words at the comma\n",
    "if \",\" in words:\n",
    "    word_list = words.split(\",\")\n",
    "else:\n",
    "    word_list = words.split()\n",
    "# Sort the words\n",
    "word_list.sort()\n",
    "print(\"The sorted list of words are:\")\n",
    "print(word_list)"
   ]
  },
  {
   "cell_type": "code",
   "execution_count": null,
   "metadata": {},
   "outputs": [],
   "source": [
    "# Module 2 Sequence and File Operations\n",
    "# CaseStudy 1\n",
    "# Q3\n",
    "\n",
    "# A program, which will find all the numbers between 1000 and 3000 (both included)\n",
    "# such that each digit of a number is an even number.\n",
    "# The numbers obtained are then printed in a comma separated sequence on a single line\n",
    "\n",
    "numbers = []\n",
    "for i in range(1000, 3001):\n",
    "    string = str(i)\n",
    "    #    print(string)  # To test the value\n",
    "    evendigits = False\n",
    "    for n in range(len(string)):\n",
    "        if (int(string[n]) % 2) == 0:\n",
    "            #            print(string[n])   # To test the value\n",
    "            evendigits = True\n",
    "            continue\n",
    "        else:\n",
    "            evendigits = False\n",
    "            break\n",
    "    if evendigits:\n",
    "        numbers.append(string)\n",
    "print(\",\".join(numbers))"
   ]
  },
  {
   "cell_type": "code",
   "execution_count": null,
   "metadata": {},
   "outputs": [],
   "source": [
    "# Module 2 Sequence and File Operations\n",
    "# CaseStudy 1\n",
    "# Q4\n",
    "# A program that accepts a sentence and calculate the number of letters and digits\n",
    "\n",
    "letters = 0\n",
    "digits = 0\n",
    "myString = str(input(\"Enter a sentence with numbers and digits:\"))\n",
    "for i in range(len(myString)):\n",
    "    if myString[i].isalpha() == True:\n",
    "        letters = letters + 1\n",
    "    elif myString[i].isdigit() == True:\n",
    "        digits = digits + 1\n",
    "print(\"Letters :\", letters)\n",
    "print(\"Digits :\", digits)"
   ]
  },
  {
   "cell_type": "code",
   "execution_count": null,
   "metadata": {},
   "outputs": [],
   "source": [
    "# Module 2 Sequence and File Operations\n",
    "# CaseStudy 1\n",
    "# Q5\n",
    "# A program which will find if the given number is Palindrome number or not\n",
    "\n",
    "mystring = str(input(\"Enter a word:\"))\n",
    "if mystring == mystring[::-1]:\n",
    "    print(\"The string \", mystring, \"is a Palindrom\")\n",
    "else:\n",
    "    print(\"The string \", mystring, \"is a not a Palindrom\")"
   ]
  }
 ],
 "metadata": {
  "kernelspec": {
   "display_name": "Python 3",
   "language": "python",
   "name": "python3"
  },
  "language_info": {
   "codemirror_mode": {
    "name": "ipython",
    "version": 3
   },
   "file_extension": ".py",
   "mimetype": "text/x-python",
   "name": "python",
   "nbconvert_exporter": "python",
   "pygments_lexer": "ipython3",
   "version": "3.7.4"
  }
 },
 "nbformat": 4,
 "nbformat_minor": 2
}
