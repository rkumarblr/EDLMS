{
 "cells": [
  {
   "cell_type": "code",
   "execution_count": null,
   "metadata": {},
   "outputs": [],
   "source": [
    "# Module 2 , Casestudy 2 , Q1\n",
    "# output of nums = set([1,1,2,3,3,3,4,4])\n",
    "# The expected result is  4 since a set is the set an unordered unique occurances\n",
    "nums = set([1,1,2,3,3,3,4,4])\n",
    "print(len(nums))"
   ]
  },
  {
   "cell_type": "code",
   "execution_count": null,
   "metadata": {},
   "outputs": [],
   "source": [
    "# Module 2 , Casestudy 2 , Q2\n",
    "# output of d={\"john\":40,\"peter\":45}\n",
    "# print(list(d.keys())\n",
    "\n",
    "# The expected result is the keys which is 'john' and 'peter' the keys of the dictionary d\n",
    "\n",
    "d={\"john\":40,\"peter\":45}\n",
    "print(list(d.keys()))"
   ]
  },
  {
   "cell_type": "code",
   "execution_count": null,
   "metadata": {},
   "outputs": [],
   "source": [
    "# Module 2 , Casestudy 2 , Q3\n",
    "# Program to check the validity of the password entered\n",
    "\"\"\" conditions \n",
    "atleast one lowercase letter, one numeric value from 0 to 9 and one upper case letter\n",
    "atleast one special character from $@#\n",
    "min length 6 and max length 12\n",
    "\"\"\"\n",
    "\n",
    "import re\n",
    "\n",
    "mypassword = input(\"Enter the password:\")\n",
    "passwordcheck = None\n",
    "if len(mypassword) < 6 or len(mypassword) > 12:\n",
    "    passwordcheck = False\n",
    "else:\n",
    "    passwordcheck = re.search(r\"^(?=.*[a-z])(?=.*[A-Z])(?=.*\\d)(?=.*[@#$])\", mypassword)\n",
    "if passwordcheck:\n",
    "    print(\"Password is valid\")\n",
    "else:\n",
    "    print(\"Password is not valid\")"
   ]
  },
  {
   "cell_type": "code",
   "execution_count": null,
   "metadata": {},
   "outputs": [],
   "source": [
    "# Module 2 , Casestudy 2 , Q4\n",
    "# Program to loop through the list provided and print the elements and their position \n",
    "# a = [4,7,3,2,5,9]\n",
    "\n",
    "a = [4,7,3,2,5,9]\n",
    "for i in range(0,len(a)):\n",
    "    print(\"Elememt:\",a[i],\" Its position in the list:\",i+1)"
   ]
  },
  {
   "cell_type": "code",
   "execution_count": null,
   "metadata": {},
   "outputs": [],
   "source": [
    "# Module 2 , Casestudy 2 , Q5\n",
    "# Program which accepts a string from console and print the characters that have even indexes\n",
    "\n",
    "mystr = input(\"Enter a string:\")\n",
    "retstr = \"\"\n",
    "for i in range(len(mystr)):\n",
    "        if((i%2) == 0):\n",
    "            retstr += mystr[i]\n",
    "print(retstr)"
   ]
  },
  {
   "cell_type": "code",
   "execution_count": null,
   "metadata": {},
   "outputs": [],
   "source": [
    "# Module 2 , Casestudy 2 , Q6\n",
    "# Program which accepts a string from console and print it in reverse order\n",
    "\n",
    "mystr = input(\"Enter a string:\")\n",
    "revstr = mystr[::-1]\n",
    "print(revstr)"
   ]
  },
  {
   "cell_type": "code",
   "execution_count": null,
   "metadata": {},
   "outputs": [],
   "source": [
    "# Module 2 , Casestudy 2 , Q7\n",
    "# Program which count and print the numbers of each character in a string input by console\n",
    "\n",
    "mystr = input(\"Enter a string:\")\n",
    "mychrcount = {}\n",
    "for i in mystr:\n",
    "    if i in mychrcount:\n",
    "        mychrcount[i] += 1\n",
    "    else:\n",
    "        mychrcount[i] = 1\n",
    "print(mychrcount)"
   ]
  },
  {
   "cell_type": "code",
   "execution_count": null,
   "metadata": {},
   "outputs": [],
   "source": [
    "# Module 2 , Casestudy 2 , Q8\n",
    "# Program to make a list whose elements are intersection of two given lists\n",
    "\n",
    "mylist1 = [1,3,6,78,35,55]   \n",
    "mylist2 = [12,24,35,24,88,120,155]\n",
    "\n",
    "mylist3 = (set(mylist1) & set(mylist2))\n",
    "print(mylist3)\n"
   ]
  },
  {
   "cell_type": "code",
   "execution_count": null,
   "metadata": {},
   "outputs": [],
   "source": [
    "# Module 2 , Casestudy 2 , Q9\n",
    "# Program using list compression to print the list after removing the value 24 in [12,24,35,24,88,120,155]\n",
    "\n",
    "mylist1 = [12,24,35,24,88,120,155]\n",
    "mylist2 = (i for i in mylist1 if i != 24)\n",
    "print(*mylist2)\n",
    "\n"
   ]
  },
  {
   "cell_type": "code",
   "execution_count": null,
   "metadata": {},
   "outputs": [],
   "source": [
    "# Module 2 , Casestudy 2 , Q10\n",
    "# Program using list compression to print the list after removing 0th,4th,5th numbers in [12,24,35,70,88,120,155]\n",
    "\n",
    "mylist1 = [12,24,35,24,88,120,155]\n",
    "mylist2 = (j for i,j in enumerate(mylist1) if i not in [0,4,5])\n",
    "print(*mylist2)"
   ]
  },
  {
   "cell_type": "code",
   "execution_count": null,
   "metadata": {},
   "outputs": [],
   "source": [
    "# Module 2 , Casestudy 2 , Q11\n",
    "# Program using list compression to delete numbers which are divisible by 5 and 7 \n",
    "# in [12,24,35,70,88,120,155]\n",
    "\n",
    "mylist1 = [12,24,35,24,88,120,155]\n",
    "mylist2 = (i for i in mylist1 if (((i%5) == 0) and ((i%7) == 0)))\n",
    "print(*mylist2)"
   ]
  },
  {
   "cell_type": "code",
   "execution_count": null,
   "metadata": {},
   "outputs": [],
   "source": [
    "# Module 2 , Casestudy 2 , Q12\n",
    "# Program to  compute  1/2+2/3+3/4+...+n/n+1  with  a  given  n  input  by console (n>0)\n",
    "\n",
    "n = int(input(\"Enter a number > 0 : \"))\n",
    "if(n <= 0):\n",
    "    ptint(\"Invalid input, please retry\")\n",
    "i = 1\n",
    "j = 0\n",
    "\n",
    "for i in range(1, n+1): \n",
    "    j = j + i/(i+1); \n",
    "#    print(\"i =\",i,\"j =\",j)\n",
    "print(j)"
   ]
  }
 ],
 "metadata": {
  "kernelspec": {
   "display_name": "Python 3",
   "language": "python",
   "name": "python3"
  },
  "language_info": {
   "codemirror_mode": {
    "name": "ipython",
    "version": 3
   },
   "file_extension": ".py",
   "mimetype": "text/x-python",
   "name": "python",
   "nbconvert_exporter": "python",
   "pygments_lexer": "ipython3",
   "version": "3.7.4"
  }
 },
 "nbformat": 4,
 "nbformat_minor": 2
}
